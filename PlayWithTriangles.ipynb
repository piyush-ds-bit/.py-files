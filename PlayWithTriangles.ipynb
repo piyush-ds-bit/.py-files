{
 "cells": [
  {
   "cell_type": "code",
   "execution_count": 1,
   "id": "a66d3d43-d0c7-445f-a9eb-806b6896bc7d",
   "metadata": {},
   "outputs": [
    {
     "name": "stdout",
     "output_type": "stream",
     "text": [
      "*\n",
      "*\n",
      "*\n",
      "*\n",
      "*\n",
      "*\n",
      "*\n",
      "*\n",
      "*\n",
      "*\n"
     ]
    }
   ],
   "source": [
    "size = 10\n",
    "for i in range(size):\n",
    "    print(\"*\")"
   ]
  },
  {
   "cell_type": "code",
   "execution_count": 2,
   "id": "6dcdc49c-c428-40a2-a79a-af49fc8921bf",
   "metadata": {},
   "outputs": [
    {
     "name": "stdout",
     "output_type": "stream",
     "text": [
      "**********\n",
      "**********\n",
      "**********\n",
      "**********\n",
      "**********\n",
      "**********\n",
      "**********\n",
      "**********\n",
      "**********\n",
      "**********\n"
     ]
    }
   ],
   "source": [
    "size = 10\n",
    "for i in range(size):\n",
    "    print(\"*\"*size)"
   ]
  },
  {
   "cell_type": "code",
   "execution_count": 3,
   "id": "ae1fb0d5-6ee9-4827-9e8f-55d6921f1469",
   "metadata": {},
   "outputs": [
    {
     "name": "stdout",
     "output_type": "stream",
     "text": [
      "\n",
      "*\n",
      "**\n",
      "***\n",
      "****\n",
      "*****\n",
      "******\n",
      "*******\n",
      "********\n",
      "*********\n"
     ]
    }
   ],
   "source": [
    "size = 10\n",
    "for i in range(size):\n",
    "    print(\"*\"*i)"
   ]
  },
  {
   "cell_type": "code",
   "execution_count": 7,
   "id": "304f8982-5b1a-4374-b0eb-9a3fd21885d8",
   "metadata": {},
   "outputs": [
    {
     "name": "stdout",
     "output_type": "stream",
     "text": [
      "***********\n",
      "************\n",
      "*************\n",
      "**************\n",
      "***************\n",
      "****************\n",
      "*****************\n",
      "******************\n",
      "*******************\n",
      "********************\n"
     ]
    }
   ],
   "source": [
    "size = 10\n",
    "for i in range(size):\n",
    "    print(\"*\"*(i+size+1))"
   ]
  },
  {
   "cell_type": "code",
   "execution_count": 35,
   "id": "613fc8cc-175a-4eda-9419-0ed9d3c39d7d",
   "metadata": {},
   "outputs": [
    {
     "name": "stdout",
     "output_type": "stream",
     "text": [
      "*\n",
      " *\n",
      "  *\n",
      "   *\n",
      "    *\n",
      "     *\n",
      "      *\n",
      "       *\n",
      "        *\n",
      "         *\n"
     ]
    }
   ],
   "source": [
    "size = 10\n",
    "\n",
    "for i in range(size):\n",
    "    counter = \" \"*i\n",
    "    print(counter + \"*\")"
   ]
  },
  {
   "cell_type": "code",
   "execution_count": 18,
   "id": "2dc1d671-0353-4ddf-8f0b-1f2308d37ef2",
   "metadata": {},
   "outputs": [
    {
     "name": "stdout",
     "output_type": "stream",
     "text": [
      "          *\n",
      "          *\n",
      "          *\n",
      "          *\n",
      "          *\n",
      "          *\n",
      "          *\n",
      "          *\n",
      "          *\n",
      "          *\n"
     ]
    }
   ],
   "source": [
    "size = 10\n",
    "\n",
    "for i in range(size):\n",
    "    counter = \" \"*size\n",
    "    print(counter + \"*\")"
   ]
  },
  {
   "cell_type": "code",
   "execution_count": 57,
   "id": "7b160276-3861-4065-9734-ca2ef49fef0e",
   "metadata": {},
   "outputs": [
    {
     "name": "stdout",
     "output_type": "stream",
     "text": [
      "                   *\n",
      "                  *\n",
      "                 *\n",
      "                *\n",
      "               *\n",
      "              *\n",
      "             *\n",
      "            *\n",
      "           *\n",
      "          *\n"
     ]
    }
   ],
   "source": [
    "size = 10\n",
    "j=20\n",
    "\n",
    "for i in range(size):\n",
    "    counter = \" \"*(j-1)\n",
    "    j-=1\n",
    "    print(counter + \"*\")"
   ]
  },
  {
   "cell_type": "code",
   "execution_count": 27,
   "id": "7343ed20-4b2a-424a-aa83-f329eee78903",
   "metadata": {},
   "outputs": [
    {
     "name": "stdout",
     "output_type": "stream",
     "text": [
      "          \n",
      "         *\n",
      "        **\n",
      "       ***\n",
      "      ****\n",
      "     *****\n",
      "    ******\n",
      "   *******\n",
      "  ********\n",
      " *********\n"
     ]
    }
   ],
   "source": [
    "size = 10\n",
    "\n",
    "for i in range(size):\n",
    "    counter = \" \"*(size)\n",
    "    size-=1\n",
    "    print(counter + \"*\"*i)"
   ]
  },
  {
   "cell_type": "code",
   "execution_count": 71,
   "id": "a0f6c274-4713-44bb-b5e2-536bd8399b30",
   "metadata": {},
   "outputs": [
    {
     "name": "stdout",
     "output_type": "stream",
     "text": [
      "*********\n",
      " ********\n",
      "  *******\n",
      "   ******\n",
      "    *****\n",
      "     ****\n",
      "      ***\n",
      "       **\n",
      "        *\n",
      "         \n"
     ]
    }
   ],
   "source": [
    "size = 10\n",
    "j=0\n",
    "\n",
    "for i in range(20):\n",
    "    if i%2!=0:\n",
    "        counter=\" \"*j\n",
    "        j+=1\n",
    "        size-=1\n",
    "        print(counter+\"*\"*size)\n",
    "    else:\n",
    "        continue"
   ]
  },
  {
   "cell_type": "code",
   "execution_count": 67,
   "id": "3b2b29a4-2b6d-4e2a-9a32-c3dccc6c21cc",
   "metadata": {},
   "outputs": [
    {
     "name": "stdout",
     "output_type": "stream",
     "text": [
      "          \n",
      "          *\n",
      "          **\n",
      "          ***\n",
      "          ****\n",
      "          *****\n",
      "          ******\n",
      "          *******\n",
      "          ********\n",
      "          *********\n"
     ]
    }
   ],
   "source": [
    "size = 10\n",
    "\n",
    "for i in range(size):\n",
    "    counter = \" \"*(size)\n",
    "    # size+=1\n",
    "    print(counter + \"*\"*i)"
   ]
  },
  {
   "cell_type": "code",
   "execution_count": 64,
   "id": "7eb52d51-229d-4715-91f7-75a1a92da1d9",
   "metadata": {},
   "outputs": [
    {
     "name": "stdout",
     "output_type": "stream",
     "text": [
      "          *********\n",
      "          ********\n",
      "          *******\n",
      "          ******\n",
      "          *****\n",
      "          ****\n",
      "          ***\n",
      "          **\n",
      "          *\n",
      "          \n"
     ]
    }
   ],
   "source": [
    "size = 10\n",
    "j=10\n",
    "\n",
    "for i in range(20):\n",
    "    if i%2!=0:\n",
    "        counter = \" \"*(j)\n",
    "        size-=1\n",
    "        print(counter + \"*\"*size)\n",
    "    else:\n",
    "        continue"
   ]
  },
  {
   "cell_type": "code",
   "execution_count": 79,
   "id": "b74bef15-a38f-42bd-b761-77397a8c8e5d",
   "metadata": {},
   "outputs": [
    {
     "name": "stdout",
     "output_type": "stream",
     "text": [
      "         *\n",
      "        ***\n",
      "       *****\n",
      "      *******\n",
      "     *********\n",
      "    ***********\n",
      "   *************\n",
      "  ***************\n",
      " *****************\n",
      "*******************\n"
     ]
    }
   ],
   "source": [
    "size = 20\n",
    "j=9\n",
    "\n",
    "for i in range(size):\n",
    "    if i%2!=0:\n",
    "        counter = \" \"*(j)\n",
    "        j-=1\n",
    "        print(counter + \"*\"*i)\n",
    "    else:\n",
    "        continue"
   ]
  },
  {
   "cell_type": "code",
   "execution_count": 76,
   "id": "17772cc9-0466-4628-ae19-5e9f8dd9f071",
   "metadata": {},
   "outputs": [
    {
     "name": "stdout",
     "output_type": "stream",
     "text": [
      "*******************\n",
      " *****************\n",
      "  ***************\n",
      "   *************\n",
      "    ***********\n",
      "     *********\n",
      "      *******\n",
      "       *****\n",
      "        ***\n",
      "         *\n"
     ]
    }
   ],
   "source": [
    "size = 19\n",
    "j=0\n",
    "\n",
    "for i in range(20):\n",
    "    if i%2!=0:\n",
    "        counter = \" \"*(j)\n",
    "        j+=1\n",
    "        print(counter + \"*\"*size)\n",
    "        size -= 2\n",
    "    else:\n",
    "        continue\n",
    "\n"
   ]
  },
  {
   "cell_type": "code",
   "execution_count": 80,
   "id": "77b2a465-a7ea-4260-ba2d-31186ca186eb",
   "metadata": {},
   "outputs": [
    {
     "name": "stdout",
     "output_type": "stream",
     "text": [
      "         *\n",
      "        ***\n",
      "       *****\n",
      "      *******\n",
      "     *********\n",
      "    ***********\n",
      "   *************\n",
      "  ***************\n",
      " *****************\n",
      "*******************\n",
      "*******************\n",
      " *****************\n",
      "  ***************\n",
      "   *************\n",
      "    ***********\n",
      "     *********\n",
      "      *******\n",
      "       *****\n",
      "        ***\n",
      "         *\n"
     ]
    }
   ],
   "source": [
    "size = 20\n",
    "j=9\n",
    "\n",
    "for i in range(size):\n",
    "    if i%2!=0:\n",
    "        counter = \" \"*(j)\n",
    "        j-=1\n",
    "        print(counter + \"*\"*i)\n",
    "    else:\n",
    "        continue\n",
    "\n",
    "size = 19\n",
    "j=0\n",
    "\n",
    "for i in range(20):\n",
    "    if i%2!=0:\n",
    "        counter = \" \"*(j)\n",
    "        j+=1\n",
    "        print(counter + \"*\"*size)\n",
    "        size -= 2\n",
    "    else:\n",
    "        continue"
   ]
  },
  {
   "cell_type": "code",
   "execution_count": 81,
   "id": "5e2a32a3-0a4b-4b97-ac29-42567531086e",
   "metadata": {},
   "outputs": [
    {
     "name": "stdout",
     "output_type": "stream",
     "text": [
      "          \n",
      "          *\n",
      "          **\n",
      "          ***\n",
      "          ****\n",
      "          *****\n",
      "          ******\n",
      "          *******\n",
      "          ********\n",
      "          *********\n",
      "*********\n",
      " ********\n",
      "  *******\n",
      "   ******\n",
      "    *****\n",
      "     ****\n",
      "      ***\n",
      "       **\n",
      "        *\n",
      "         \n"
     ]
    }
   ],
   "source": [
    "\n",
    "size = 10\n",
    "\n",
    "for i in range(size):\n",
    "    counter = \" \"*(size)\n",
    "    # size+=1\n",
    "    print(counter + \"*\"*i)\n",
    "\n",
    "\n",
    "size = 10\n",
    "j=0\n",
    "\n",
    "for i in range(20):\n",
    "    if i%2!=0:\n",
    "        counter=\" \"*j\n",
    "        j+=1\n",
    "        size-=1\n",
    "        print(counter+\"*\"*size)\n",
    "    else:\n",
    "        continue"
   ]
  },
  {
   "cell_type": "code",
   "execution_count": null,
   "id": "1cf02db3-0103-42e9-8469-b9ff8c280f9b",
   "metadata": {},
   "outputs": [],
   "source": []
  }
 ],
 "metadata": {
  "kernelspec": {
   "display_name": "Python 3 (ipykernel)",
   "language": "python",
   "name": "python3"
  },
  "language_info": {
   "codemirror_mode": {
    "name": "ipython",
    "version": 3
   },
   "file_extension": ".py",
   "mimetype": "text/x-python",
   "name": "python",
   "nbconvert_exporter": "python",
   "pygments_lexer": "ipython3",
   "version": "3.12.8"
  }
 },
 "nbformat": 4,
 "nbformat_minor": 5
}
